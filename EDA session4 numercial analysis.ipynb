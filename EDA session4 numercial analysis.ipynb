{
 "cells": [
  {
   "cell_type": "code",
   "execution_count": 1,
   "id": "e9302b8c-1aca-4de5-8587-86ad021378d7",
   "metadata": {},
   "outputs": [],
   "source": [
    "import pandas as pd\n",
    "import numpy as np\n",
    "import matplotlib.pyplot as plt\n",
    "import seaborn as sns"
   ]
  },
  {
   "cell_type": "code",
   "execution_count": 4,
   "id": "aa6a267f-bde1-4fb2-a8da-adcd7bca256d",
   "metadata": {},
   "outputs": [
    {
     "ename": "FileNotFoundError",
     "evalue": "[Errno 2] No such file or directory: 'C:\\\\Users\\\\ASUS\\\\Documents\\\\EDA\\\\Visadataset.csv'",
     "output_type": "error",
     "traceback": [
      "\u001b[1;31m---------------------------------------------------------------------------\u001b[0m",
      "\u001b[1;31mFileNotFoundError\u001b[0m                         Traceback (most recent call last)",
      "Cell \u001b[1;32mIn[4], line 2\u001b[0m\n\u001b[0;32m      1\u001b[0m path\u001b[38;5;241m=\u001b[39m\u001b[38;5;124mr\u001b[39m\u001b[38;5;124m\"\u001b[39m\u001b[38;5;124mC:\u001b[39m\u001b[38;5;124m\\\u001b[39m\u001b[38;5;124mUsers\u001b[39m\u001b[38;5;124m\\\u001b[39m\u001b[38;5;124mASUS\u001b[39m\u001b[38;5;124m\\\u001b[39m\u001b[38;5;124mDocuments\u001b[39m\u001b[38;5;124m\\\u001b[39m\u001b[38;5;124mEDA\u001b[39m\u001b[38;5;124m\\\u001b[39m\u001b[38;5;124mVisadataset.csv\u001b[39m\u001b[38;5;124m\"\u001b[39m\n\u001b[1;32m----> 2\u001b[0m visa_df\u001b[38;5;241m=\u001b[39mpd\u001b[38;5;241m.\u001b[39mread_csv(path)\n\u001b[0;32m      3\u001b[0m visa_df\n",
      "File \u001b[1;32m~\\anaconda3\\Lib\\site-packages\\pandas\\io\\parsers\\readers.py:1026\u001b[0m, in \u001b[0;36mread_csv\u001b[1;34m(filepath_or_buffer, sep, delimiter, header, names, index_col, usecols, dtype, engine, converters, true_values, false_values, skipinitialspace, skiprows, skipfooter, nrows, na_values, keep_default_na, na_filter, verbose, skip_blank_lines, parse_dates, infer_datetime_format, keep_date_col, date_parser, date_format, dayfirst, cache_dates, iterator, chunksize, compression, thousands, decimal, lineterminator, quotechar, quoting, doublequote, escapechar, comment, encoding, encoding_errors, dialect, on_bad_lines, delim_whitespace, low_memory, memory_map, float_precision, storage_options, dtype_backend)\u001b[0m\n\u001b[0;32m   1013\u001b[0m kwds_defaults \u001b[38;5;241m=\u001b[39m _refine_defaults_read(\n\u001b[0;32m   1014\u001b[0m     dialect,\n\u001b[0;32m   1015\u001b[0m     delimiter,\n\u001b[1;32m   (...)\u001b[0m\n\u001b[0;32m   1022\u001b[0m     dtype_backend\u001b[38;5;241m=\u001b[39mdtype_backend,\n\u001b[0;32m   1023\u001b[0m )\n\u001b[0;32m   1024\u001b[0m kwds\u001b[38;5;241m.\u001b[39mupdate(kwds_defaults)\n\u001b[1;32m-> 1026\u001b[0m \u001b[38;5;28;01mreturn\u001b[39;00m _read(filepath_or_buffer, kwds)\n",
      "File \u001b[1;32m~\\anaconda3\\Lib\\site-packages\\pandas\\io\\parsers\\readers.py:620\u001b[0m, in \u001b[0;36m_read\u001b[1;34m(filepath_or_buffer, kwds)\u001b[0m\n\u001b[0;32m    617\u001b[0m _validate_names(kwds\u001b[38;5;241m.\u001b[39mget(\u001b[38;5;124m\"\u001b[39m\u001b[38;5;124mnames\u001b[39m\u001b[38;5;124m\"\u001b[39m, \u001b[38;5;28;01mNone\u001b[39;00m))\n\u001b[0;32m    619\u001b[0m \u001b[38;5;66;03m# Create the parser.\u001b[39;00m\n\u001b[1;32m--> 620\u001b[0m parser \u001b[38;5;241m=\u001b[39m TextFileReader(filepath_or_buffer, \u001b[38;5;241m*\u001b[39m\u001b[38;5;241m*\u001b[39mkwds)\n\u001b[0;32m    622\u001b[0m \u001b[38;5;28;01mif\u001b[39;00m chunksize \u001b[38;5;129;01mor\u001b[39;00m iterator:\n\u001b[0;32m    623\u001b[0m     \u001b[38;5;28;01mreturn\u001b[39;00m parser\n",
      "File \u001b[1;32m~\\anaconda3\\Lib\\site-packages\\pandas\\io\\parsers\\readers.py:1620\u001b[0m, in \u001b[0;36mTextFileReader.__init__\u001b[1;34m(self, f, engine, **kwds)\u001b[0m\n\u001b[0;32m   1617\u001b[0m     \u001b[38;5;28mself\u001b[39m\u001b[38;5;241m.\u001b[39moptions[\u001b[38;5;124m\"\u001b[39m\u001b[38;5;124mhas_index_names\u001b[39m\u001b[38;5;124m\"\u001b[39m] \u001b[38;5;241m=\u001b[39m kwds[\u001b[38;5;124m\"\u001b[39m\u001b[38;5;124mhas_index_names\u001b[39m\u001b[38;5;124m\"\u001b[39m]\n\u001b[0;32m   1619\u001b[0m \u001b[38;5;28mself\u001b[39m\u001b[38;5;241m.\u001b[39mhandles: IOHandles \u001b[38;5;241m|\u001b[39m \u001b[38;5;28;01mNone\u001b[39;00m \u001b[38;5;241m=\u001b[39m \u001b[38;5;28;01mNone\u001b[39;00m\n\u001b[1;32m-> 1620\u001b[0m \u001b[38;5;28mself\u001b[39m\u001b[38;5;241m.\u001b[39m_engine \u001b[38;5;241m=\u001b[39m \u001b[38;5;28mself\u001b[39m\u001b[38;5;241m.\u001b[39m_make_engine(f, \u001b[38;5;28mself\u001b[39m\u001b[38;5;241m.\u001b[39mengine)\n",
      "File \u001b[1;32m~\\anaconda3\\Lib\\site-packages\\pandas\\io\\parsers\\readers.py:1880\u001b[0m, in \u001b[0;36mTextFileReader._make_engine\u001b[1;34m(self, f, engine)\u001b[0m\n\u001b[0;32m   1878\u001b[0m     \u001b[38;5;28;01mif\u001b[39;00m \u001b[38;5;124m\"\u001b[39m\u001b[38;5;124mb\u001b[39m\u001b[38;5;124m\"\u001b[39m \u001b[38;5;129;01mnot\u001b[39;00m \u001b[38;5;129;01min\u001b[39;00m mode:\n\u001b[0;32m   1879\u001b[0m         mode \u001b[38;5;241m+\u001b[39m\u001b[38;5;241m=\u001b[39m \u001b[38;5;124m\"\u001b[39m\u001b[38;5;124mb\u001b[39m\u001b[38;5;124m\"\u001b[39m\n\u001b[1;32m-> 1880\u001b[0m \u001b[38;5;28mself\u001b[39m\u001b[38;5;241m.\u001b[39mhandles \u001b[38;5;241m=\u001b[39m get_handle(\n\u001b[0;32m   1881\u001b[0m     f,\n\u001b[0;32m   1882\u001b[0m     mode,\n\u001b[0;32m   1883\u001b[0m     encoding\u001b[38;5;241m=\u001b[39m\u001b[38;5;28mself\u001b[39m\u001b[38;5;241m.\u001b[39moptions\u001b[38;5;241m.\u001b[39mget(\u001b[38;5;124m\"\u001b[39m\u001b[38;5;124mencoding\u001b[39m\u001b[38;5;124m\"\u001b[39m, \u001b[38;5;28;01mNone\u001b[39;00m),\n\u001b[0;32m   1884\u001b[0m     compression\u001b[38;5;241m=\u001b[39m\u001b[38;5;28mself\u001b[39m\u001b[38;5;241m.\u001b[39moptions\u001b[38;5;241m.\u001b[39mget(\u001b[38;5;124m\"\u001b[39m\u001b[38;5;124mcompression\u001b[39m\u001b[38;5;124m\"\u001b[39m, \u001b[38;5;28;01mNone\u001b[39;00m),\n\u001b[0;32m   1885\u001b[0m     memory_map\u001b[38;5;241m=\u001b[39m\u001b[38;5;28mself\u001b[39m\u001b[38;5;241m.\u001b[39moptions\u001b[38;5;241m.\u001b[39mget(\u001b[38;5;124m\"\u001b[39m\u001b[38;5;124mmemory_map\u001b[39m\u001b[38;5;124m\"\u001b[39m, \u001b[38;5;28;01mFalse\u001b[39;00m),\n\u001b[0;32m   1886\u001b[0m     is_text\u001b[38;5;241m=\u001b[39mis_text,\n\u001b[0;32m   1887\u001b[0m     errors\u001b[38;5;241m=\u001b[39m\u001b[38;5;28mself\u001b[39m\u001b[38;5;241m.\u001b[39moptions\u001b[38;5;241m.\u001b[39mget(\u001b[38;5;124m\"\u001b[39m\u001b[38;5;124mencoding_errors\u001b[39m\u001b[38;5;124m\"\u001b[39m, \u001b[38;5;124m\"\u001b[39m\u001b[38;5;124mstrict\u001b[39m\u001b[38;5;124m\"\u001b[39m),\n\u001b[0;32m   1888\u001b[0m     storage_options\u001b[38;5;241m=\u001b[39m\u001b[38;5;28mself\u001b[39m\u001b[38;5;241m.\u001b[39moptions\u001b[38;5;241m.\u001b[39mget(\u001b[38;5;124m\"\u001b[39m\u001b[38;5;124mstorage_options\u001b[39m\u001b[38;5;124m\"\u001b[39m, \u001b[38;5;28;01mNone\u001b[39;00m),\n\u001b[0;32m   1889\u001b[0m )\n\u001b[0;32m   1890\u001b[0m \u001b[38;5;28;01massert\u001b[39;00m \u001b[38;5;28mself\u001b[39m\u001b[38;5;241m.\u001b[39mhandles \u001b[38;5;129;01mis\u001b[39;00m \u001b[38;5;129;01mnot\u001b[39;00m \u001b[38;5;28;01mNone\u001b[39;00m\n\u001b[0;32m   1891\u001b[0m f \u001b[38;5;241m=\u001b[39m \u001b[38;5;28mself\u001b[39m\u001b[38;5;241m.\u001b[39mhandles\u001b[38;5;241m.\u001b[39mhandle\n",
      "File \u001b[1;32m~\\anaconda3\\Lib\\site-packages\\pandas\\io\\common.py:873\u001b[0m, in \u001b[0;36mget_handle\u001b[1;34m(path_or_buf, mode, encoding, compression, memory_map, is_text, errors, storage_options)\u001b[0m\n\u001b[0;32m    868\u001b[0m \u001b[38;5;28;01melif\u001b[39;00m \u001b[38;5;28misinstance\u001b[39m(handle, \u001b[38;5;28mstr\u001b[39m):\n\u001b[0;32m    869\u001b[0m     \u001b[38;5;66;03m# Check whether the filename is to be opened in binary mode.\u001b[39;00m\n\u001b[0;32m    870\u001b[0m     \u001b[38;5;66;03m# Binary mode does not support 'encoding' and 'newline'.\u001b[39;00m\n\u001b[0;32m    871\u001b[0m     \u001b[38;5;28;01mif\u001b[39;00m ioargs\u001b[38;5;241m.\u001b[39mencoding \u001b[38;5;129;01mand\u001b[39;00m \u001b[38;5;124m\"\u001b[39m\u001b[38;5;124mb\u001b[39m\u001b[38;5;124m\"\u001b[39m \u001b[38;5;129;01mnot\u001b[39;00m \u001b[38;5;129;01min\u001b[39;00m ioargs\u001b[38;5;241m.\u001b[39mmode:\n\u001b[0;32m    872\u001b[0m         \u001b[38;5;66;03m# Encoding\u001b[39;00m\n\u001b[1;32m--> 873\u001b[0m         handle \u001b[38;5;241m=\u001b[39m \u001b[38;5;28mopen\u001b[39m(\n\u001b[0;32m    874\u001b[0m             handle,\n\u001b[0;32m    875\u001b[0m             ioargs\u001b[38;5;241m.\u001b[39mmode,\n\u001b[0;32m    876\u001b[0m             encoding\u001b[38;5;241m=\u001b[39mioargs\u001b[38;5;241m.\u001b[39mencoding,\n\u001b[0;32m    877\u001b[0m             errors\u001b[38;5;241m=\u001b[39merrors,\n\u001b[0;32m    878\u001b[0m             newline\u001b[38;5;241m=\u001b[39m\u001b[38;5;124m\"\u001b[39m\u001b[38;5;124m\"\u001b[39m,\n\u001b[0;32m    879\u001b[0m         )\n\u001b[0;32m    880\u001b[0m     \u001b[38;5;28;01melse\u001b[39;00m:\n\u001b[0;32m    881\u001b[0m         \u001b[38;5;66;03m# Binary mode\u001b[39;00m\n\u001b[0;32m    882\u001b[0m         handle \u001b[38;5;241m=\u001b[39m \u001b[38;5;28mopen\u001b[39m(handle, ioargs\u001b[38;5;241m.\u001b[39mmode)\n",
      "\u001b[1;31mFileNotFoundError\u001b[0m: [Errno 2] No such file or directory: 'C:\\\\Users\\\\ASUS\\\\Documents\\\\EDA\\\\Visadataset.csv'"
     ]
    }
   ],
   "source": [
    "path=r\"C:\\Users\\ASUS\\Documents\\EDA\\Visadataset.csv\"\n",
    "visa_df=pd.read_csv(path)\n",
    "visa_df"
   ]
  },
  {
   "cell_type": "markdown",
   "id": "8bb2c197-a6bc-4991-b8d0-0b5a67765f51",
   "metadata": {},
   "source": [
    "**convert numercial and catergorcial columns**"
   ]
  },
  {
   "cell_type": "code",
   "execution_count": 11,
   "id": "d5e591b6-6876-4664-ba7f-c1e480d2a012",
   "metadata": {},
   "outputs": [
    {
     "ename": "NameError",
     "evalue": "name 'visa_df' is not defined",
     "output_type": "error",
     "traceback": [
      "\u001b[1;31m---------------------------------------------------------------------------\u001b[0m",
      "\u001b[1;31mNameError\u001b[0m                                 Traceback (most recent call last)",
      "Cell \u001b[1;32mIn[11], line 1\u001b[0m\n\u001b[1;32m----> 1\u001b[0m cat_columns\u001b[38;5;241m=\u001b[39mvisa_df\u001b[38;5;241m.\u001b[39mselect_dtypes(include\u001b[38;5;241m=\u001b[39m\u001b[38;5;124m'\u001b[39m\u001b[38;5;124mobject\u001b[39m\u001b[38;5;124m'\u001b[39m)\u001b[38;5;241m.\u001b[39mcolumns\n\u001b[0;32m      2\u001b[0m num_columns\u001b[38;5;241m=\u001b[39mvisa_df\u001b[38;5;241m.\u001b[39mselect_dtypes(exclude\u001b[38;5;241m=\u001b[39m\u001b[38;5;124m'\u001b[39m\u001b[38;5;124mobject\u001b[39m\u001b[38;5;124m'\u001b[39m)\u001b[38;5;241m.\u001b[39mcolumns\n\u001b[0;32m      3\u001b[0m num_columns\n",
      "\u001b[1;31mNameError\u001b[0m: name 'visa_df' is not defined"
     ]
    }
   ],
   "source": [
    "\n",
    "cat_columns=visa_df.select_dtypes(include='object').columns\n",
    "num_columns=visa_df.select_dtypes(exclude='object').columns\n",
    "num_columns"
   ]
  },
  {
   "cell_type": "markdown",
   "id": "0830448d-c823-4d83-ac79-18add6d9b32f",
   "metadata": {},
   "source": [
    "**prevailing_wage**"
   ]
  },
  {
   "cell_type": "code",
   "execution_count": 4,
   "id": "3ef9bcc8-df0e-4de8-982e-0540526795b3",
   "metadata": {},
   "outputs": [
    {
     "ename": "NameError",
     "evalue": "name 'visa_df' is not defined",
     "output_type": "error",
     "traceback": [
      "\u001b[1;31m---------------------------------------------------------------------------\u001b[0m",
      "\u001b[1;31mNameError\u001b[0m                                 Traceback (most recent call last)",
      "Cell \u001b[1;32mIn[4], line 1\u001b[0m\n\u001b[1;32m----> 1\u001b[0m visa_df\u001b[38;5;241m.\u001b[39mloc[:,\u001b[38;5;124m'\u001b[39m\u001b[38;5;124mprevailing_wage\u001b[39m\u001b[38;5;124m'\u001b[39m]\n\u001b[0;32m      2\u001b[0m visa_df\u001b[38;5;241m.\u001b[39miloc[:,[\u001b[38;5;241m8\u001b[39m]]\n\u001b[0;32m      3\u001b[0m visa_df[\u001b[38;5;124m'\u001b[39m\u001b[38;5;124mprevailing_wage\u001b[39m\u001b[38;5;124m'\u001b[39m]\n",
      "\u001b[1;31mNameError\u001b[0m: name 'visa_df' is not defined"
     ]
    }
   ],
   "source": [
    "visa_df.loc[:,'prevailing_wage']\n",
    "visa_df.iloc[:,[8]]\n",
    "visa_df['prevailing_wage']"
   ]
  },
  {
   "cell_type": "markdown",
   "id": "29d2367f-f134-4f7f-a538-71873a93abda",
   "metadata": {},
   "source": [
    "- len\n",
    "- min\n",
    "- max\n",
    "- average\n",
    "- standard deviation std\n",
    "- median\n",
    "- 25p\n",
    "- 50p\n",
    "- 75p"
   ]
  },
  {
   "cell_type": "markdown",
   "id": "ba2a33fc-4372-478e-a1a8-ec29a23e1371",
   "metadata": {},
   "source": [
    "**length**"
   ]
  },
  {
   "cell_type": "code",
   "execution_count": 12,
   "id": "329e9598-db74-43b9-ab3f-57fcaafa6bf7",
   "metadata": {},
   "outputs": [
    {
     "data": {
      "text/plain": [
       "25480"
      ]
     },
     "execution_count": 12,
     "metadata": {},
     "output_type": "execute_result"
    }
   ],
   "source": [
    "len(visa_df['prevailing_wage'])"
   ]
  },
  {
   "cell_type": "code",
   "execution_count": 6,
   "id": "5cdfaabc-43af-4c56-954d-f481ec6ffbd8",
   "metadata": {},
   "outputs": [
    {
     "data": {
      "text/html": [
       "<div>\n",
       "<style scoped>\n",
       "    .dataframe tbody tr th:only-of-type {\n",
       "        vertical-align: middle;\n",
       "    }\n",
       "\n",
       "    .dataframe tbody tr th {\n",
       "        vertical-align: top;\n",
       "    }\n",
       "\n",
       "    .dataframe thead th {\n",
       "        text-align: right;\n",
       "    }\n",
       "</style>\n",
       "<table border=\"1\" class=\"dataframe\">\n",
       "  <thead>\n",
       "    <tr style=\"text-align: right;\">\n",
       "      <th></th>\n",
       "      <th>education_of_employee</th>\n",
       "      <th>has_job_experience</th>\n",
       "      <th>requires_job_training</th>\n",
       "      <th>no_of_employees</th>\n",
       "    </tr>\n",
       "  </thead>\n",
       "  <tbody>\n",
       "    <tr>\n",
       "      <th>3</th>\n",
       "      <td>Bachelor's</td>\n",
       "      <td>N</td>\n",
       "      <td>N</td>\n",
       "      <td>98</td>\n",
       "    </tr>\n",
       "    <tr>\n",
       "      <th>4</th>\n",
       "      <td>Master's</td>\n",
       "      <td>Y</td>\n",
       "      <td>N</td>\n",
       "      <td>1082</td>\n",
       "    </tr>\n",
       "    <tr>\n",
       "      <th>5</th>\n",
       "      <td>Master's</td>\n",
       "      <td>Y</td>\n",
       "      <td>N</td>\n",
       "      <td>2339</td>\n",
       "    </tr>\n",
       "    <tr>\n",
       "      <th>6</th>\n",
       "      <td>Bachelor's</td>\n",
       "      <td>N</td>\n",
       "      <td>N</td>\n",
       "      <td>4985</td>\n",
       "    </tr>\n",
       "  </tbody>\n",
       "</table>\n",
       "</div>"
      ],
      "text/plain": [
       "  education_of_employee has_job_experience requires_job_training  \\\n",
       "3            Bachelor's                  N                     N   \n",
       "4              Master's                  Y                     N   \n",
       "5              Master's                  Y                     N   \n",
       "6            Bachelor's                  N                     N   \n",
       "\n",
       "   no_of_employees  \n",
       "3               98  \n",
       "4             1082  \n",
       "5             2339  \n",
       "6             4985  "
      ]
     },
     "execution_count": 6,
     "metadata": {},
     "output_type": "execute_result"
    }
   ],
   "source": [
    "visa_df.iloc[3:7,2:6]"
   ]
  },
  {
   "cell_type": "code",
   "execution_count": 7,
   "id": "a4122158-36ae-4d5f-bbfc-954fa2c66b78",
   "metadata": {},
   "outputs": [
    {
     "data": {
      "text/plain": [
       "2.1367"
      ]
     },
     "execution_count": 7,
     "metadata": {},
     "output_type": "execute_result"
    }
   ],
   "source": [
    "min(visa_df['prevailing_wage'])"
   ]
  },
  {
   "cell_type": "code",
   "execution_count": 8,
   "id": "9f2e00ef-3730-443a-838c-371535d803bf",
   "metadata": {},
   "outputs": [
    {
     "data": {
      "text/plain": [
       "319210.27"
      ]
     },
     "execution_count": 8,
     "metadata": {},
     "output_type": "execute_result"
    }
   ],
   "source": [
    "max(visa_df['prevailing_wage'])"
   ]
  },
  {
   "cell_type": "code",
   "execution_count": 34,
   "id": "6407eeb4-a169-4fe3-8eeb-400e79198beb",
   "metadata": {},
   "outputs": [
    {
     "name": "stdout",
     "output_type": "stream",
     "text": [
      "the number of wage sample are: 25480\n",
      "the minimum wage sample are: 2.1367\n",
      "the maximum wage sample are: 319210.27\n"
     ]
    }
   ],
   "source": [
    "count=len((visa_df['prevailing_wage']))\n",
    "min_wage=min(visa_df['prevailing_wage'])\n",
    "max_wage=max(visa_df['prevailing_wage'])\n",
    "print(\"the number of wage sample are:\",count)\n",
    "print(\"the minimum wage sample are:\",min_wage)\n",
    "print(\"the maximum wage sample are:\",max_wage)"
   ]
  },
  {
   "cell_type": "code",
   "execution_count": null,
   "id": "4304526d-a2e6-4e12-a7cb-2b18cf89ad21",
   "metadata": {},
   "outputs": [],
   "source": []
  },
  {
   "cell_type": "code",
   "execution_count": null,
   "id": "92e12dd7-f409-4a49-a97f-f66f9f643982",
   "metadata": {},
   "outputs": [],
   "source": []
  },
  {
   "cell_type": "code",
   "execution_count": 31,
   "id": "66887207-fcfa-4ba7-a793-5f469eda6e3d",
   "metadata": {},
   "outputs": [
    {
     "name": "stdout",
     "output_type": "stream",
     "text": [
      "the average wage: 74455.81\n",
      "the median wage 70308.21\n"
     ]
    }
   ],
   "source": [
    "mean=round(visa_df['prevailing_wage'].mean(),2)\n",
    "median=round(visa_df['prevailing_wage'].median(),2)\n",
    "print(\"the average wage:\",mean)\n",
    "print(\"the median wage\",median)"
   ]
  },
  {
   "cell_type": "markdown",
   "id": "050af895-0b7d-412f-ba49-87c726d2189f",
   "metadata": {},
   "source": [
    "**using numpy**"
   ]
  },
  {
   "cell_type": "code",
   "execution_count": 11,
   "id": "5af9dabc-6268-41ae-a4d7-afceb5dfbc40",
   "metadata": {},
   "outputs": [
    {
     "data": {
      "text/plain": [
       "74455.81459209183"
      ]
     },
     "execution_count": 11,
     "metadata": {},
     "output_type": "execute_result"
    }
   ],
   "source": [
    "np.mean(visa_df['prevailing_wage'])"
   ]
  },
  {
   "cell_type": "code",
   "execution_count": 12,
   "id": "5e6e2bb0-1193-4620-8cea-299fa59b75a4",
   "metadata": {},
   "outputs": [
    {
     "data": {
      "text/plain": [
       "70308.20999999999"
      ]
     },
     "execution_count": 12,
     "metadata": {},
     "output_type": "execute_result"
    }
   ],
   "source": [
    "np.median(visa_df['prevailing_wage'])"
   ]
  },
  {
   "cell_type": "markdown",
   "id": "6ac02ec2-c300-43e5-a03e-994fb9bb2e7d",
   "metadata": {},
   "source": [
    "**std**"
   ]
  },
  {
   "cell_type": "code",
   "execution_count": 36,
   "id": "c447712d-31ee-413f-8351-cd2f6018ca06",
   "metadata": {},
   "outputs": [
    {
     "data": {
      "text/plain": [
       "52815.94232687357"
      ]
     },
     "execution_count": 36,
     "metadata": {},
     "output_type": "execute_result"
    }
   ],
   "source": [
    "std=visa_df['prevailing_wage'].std()\n",
    "std"
   ]
  },
  {
   "cell_type": "code",
   "execution_count": 10,
   "id": "7b044315-aca1-44c8-8935-bf5069a1286f",
   "metadata": {},
   "outputs": [
    {
     "data": {
      "text/plain": [
       "0        100.66\n",
       "1        102.70\n",
       "2        105.96\n",
       "3        108.12\n",
       "4        109.06\n",
       "5        110.51\n",
       "6        111.11\n",
       "7        113.60\n",
       "8        118.43\n",
       "9        122.65\n",
       "10       127.89\n",
       "11       134.15\n",
       "12       138.76\n",
       "13      6036.67\n",
       "14     21894.51\n",
       "15     24258.73\n",
       "16     58770.05\n",
       "17     60948.15\n",
       "18     64357.58\n",
       "19     74645.92\n",
       "20     82560.28\n",
       "21     87751.88\n",
       "22     88664.77\n",
       "23     93356.03\n",
       "24    126813.75\n",
       "25    149907.39\n",
       "Name: prevailing_wage, dtype: float64"
      ]
     },
     "execution_count": 10,
     "metadata": {},
     "output_type": "execute_result"
    }
   ],
   "source": [
    "visa_df['prevailing_wage'].mode()"
   ]
  },
  {
   "cell_type": "code",
   "execution_count": 37,
   "id": "7da6e9c4-a74e-4e9b-90a2-1ea3354ee8e2",
   "metadata": {},
   "outputs": [
    {
     "data": {
      "text/html": [
       "<div>\n",
       "<style scoped>\n",
       "    .dataframe tbody tr th:only-of-type {\n",
       "        vertical-align: middle;\n",
       "    }\n",
       "\n",
       "    .dataframe tbody tr th {\n",
       "        vertical-align: top;\n",
       "    }\n",
       "\n",
       "    .dataframe thead th {\n",
       "        text-align: right;\n",
       "    }\n",
       "</style>\n",
       "<table border=\"1\" class=\"dataframe\">\n",
       "  <thead>\n",
       "    <tr style=\"text-align: right;\">\n",
       "      <th></th>\n",
       "      <th>prevailing_wage</th>\n",
       "    </tr>\n",
       "  </thead>\n",
       "  <tbody>\n",
       "    <tr>\n",
       "      <th>count</th>\n",
       "      <td>25480.000000</td>\n",
       "    </tr>\n",
       "    <tr>\n",
       "      <th>mean</th>\n",
       "      <td>74455.810000</td>\n",
       "    </tr>\n",
       "    <tr>\n",
       "      <th>median</th>\n",
       "      <td>70308.210000</td>\n",
       "    </tr>\n",
       "    <tr>\n",
       "      <th>min</th>\n",
       "      <td>2.136700</td>\n",
       "    </tr>\n",
       "    <tr>\n",
       "      <th>max</th>\n",
       "      <td>319210.270000</td>\n",
       "    </tr>\n",
       "    <tr>\n",
       "      <th>std</th>\n",
       "      <td>52815.942327</td>\n",
       "    </tr>\n",
       "  </tbody>\n",
       "</table>\n",
       "</div>"
      ],
      "text/plain": [
       "        prevailing_wage\n",
       "count      25480.000000\n",
       "mean       74455.810000\n",
       "median     70308.210000\n",
       "min            2.136700\n",
       "max       319210.270000\n",
       "std        52815.942327"
      ]
     },
     "execution_count": 37,
     "metadata": {},
     "output_type": "execute_result"
    }
   ],
   "source": [
    "# step-1 : create a empty list, keep all the values in list\n",
    "# step-2 : create a index list=['count','min','max']\n",
    "# step-3 : create a cols list= ['pwage']\n",
    "values=[count,mean,median,min_wage,max_wage,std]\n",
    "index=['count','mean','median','min','max','std']\n",
    "cols=['prevailing_wage']\n",
    "pd.DataFrame(values,index=index,columns=cols)"
   ]
  },
  {
   "cell_type": "code",
   "execution_count": 16,
   "id": "47fec0bc-66ad-4d3f-94e2-9c4a62dd7cf7",
   "metadata": {},
   "outputs": [
    {
     "data": {
      "text/html": [
       "<div>\n",
       "<style scoped>\n",
       "    .dataframe tbody tr th:only-of-type {\n",
       "        vertical-align: middle;\n",
       "    }\n",
       "\n",
       "    .dataframe tbody tr th {\n",
       "        vertical-align: top;\n",
       "    }\n",
       "\n",
       "    .dataframe thead th {\n",
       "        text-align: right;\n",
       "    }\n",
       "</style>\n",
       "<table border=\"1\" class=\"dataframe\">\n",
       "  <thead>\n",
       "    <tr style=\"text-align: right;\">\n",
       "      <th></th>\n",
       "      <th>no_of_employees</th>\n",
       "      <th>yr_of_estab</th>\n",
       "      <th>prevailing_wage</th>\n",
       "    </tr>\n",
       "  </thead>\n",
       "  <tbody>\n",
       "    <tr>\n",
       "      <th>count</th>\n",
       "      <td>25480.000000</td>\n",
       "      <td>25480.000000</td>\n",
       "      <td>25480.000000</td>\n",
       "    </tr>\n",
       "    <tr>\n",
       "      <th>mean</th>\n",
       "      <td>5667.043210</td>\n",
       "      <td>1979.409929</td>\n",
       "      <td>74455.814592</td>\n",
       "    </tr>\n",
       "    <tr>\n",
       "      <th>std</th>\n",
       "      <td>22877.928848</td>\n",
       "      <td>42.366929</td>\n",
       "      <td>52815.942327</td>\n",
       "    </tr>\n",
       "    <tr>\n",
       "      <th>min</th>\n",
       "      <td>-26.000000</td>\n",
       "      <td>1800.000000</td>\n",
       "      <td>2.136700</td>\n",
       "    </tr>\n",
       "    <tr>\n",
       "      <th>25%</th>\n",
       "      <td>1022.000000</td>\n",
       "      <td>1976.000000</td>\n",
       "      <td>34015.480000</td>\n",
       "    </tr>\n",
       "    <tr>\n",
       "      <th>50%</th>\n",
       "      <td>2109.000000</td>\n",
       "      <td>1997.000000</td>\n",
       "      <td>70308.210000</td>\n",
       "    </tr>\n",
       "    <tr>\n",
       "      <th>75%</th>\n",
       "      <td>3504.000000</td>\n",
       "      <td>2005.000000</td>\n",
       "      <td>107735.512500</td>\n",
       "    </tr>\n",
       "    <tr>\n",
       "      <th>max</th>\n",
       "      <td>602069.000000</td>\n",
       "      <td>2016.000000</td>\n",
       "      <td>319210.270000</td>\n",
       "    </tr>\n",
       "  </tbody>\n",
       "</table>\n",
       "</div>"
      ],
      "text/plain": [
       "       no_of_employees   yr_of_estab  prevailing_wage\n",
       "count     25480.000000  25480.000000     25480.000000\n",
       "mean       5667.043210   1979.409929     74455.814592\n",
       "std       22877.928848     42.366929     52815.942327\n",
       "min         -26.000000   1800.000000         2.136700\n",
       "25%        1022.000000   1976.000000     34015.480000\n",
       "50%        2109.000000   1997.000000     70308.210000\n",
       "75%        3504.000000   2005.000000    107735.512500\n",
       "max      602069.000000   2016.000000    319210.270000"
      ]
     },
     "execution_count": 16,
     "metadata": {},
     "output_type": "execute_result"
    }
   ],
   "source": [
    "visa_df.describe()"
   ]
  },
  {
   "cell_type": "markdown",
   "id": "62c356d6-6fec-4096-8b4f-de9a65f775f5",
   "metadata": {},
   "source": [
    "**25p-50p-75p**\n",
    "\n",
    "**percentile**\n",
    "\n",
    "\n",
    "- In numpy we have percentile\n",
    "  \n",
    "- the method is np.percentile()\n",
    "  \n",
    "- It takes two agruments\n",
    "- a : array means data\n",
    "- q : value which percentile data we want , the value we need to provide\n",
    "- if we want 25p value then q=25\n",
    "- quantile\n",
    "\n",
    "- In numpy we have quantile\n",
    "- the method is np.quantile()\n",
    "- It takes two agruments\n",
    "- a : array means data\n",
    "- q : value which percentile data we want , the value we need to provide\n",
    "- if we want 25p value then q=0.25\n",
    "- if we want 50p value then q=0.50"
   ]
  },
  {
   "cell_type": "code",
   "execution_count": 8,
   "id": "77770c85-8480-4a6e-ae3d-b48e8163e074",
   "metadata": {},
   "outputs": [
    {
     "ename": "NameError",
     "evalue": "name 'count' is not defined",
     "output_type": "error",
     "traceback": [
      "\u001b[1;31m---------------------------------------------------------------------------\u001b[0m",
      "\u001b[1;31mNameError\u001b[0m                                 Traceback (most recent call last)",
      "Cell \u001b[1;32mIn[8], line 1\u001b[0m\n\u001b[1;32m----> 1\u001b[0m values\u001b[38;5;241m=\u001b[39m[count,mean,median,min_wage,max_wage,std,wage_25p,wage_50p,wage_75p]\n\u001b[0;32m      2\u001b[0m index\u001b[38;5;241m=\u001b[39m[\u001b[38;5;124m'\u001b[39m\u001b[38;5;124mcount\u001b[39m\u001b[38;5;124m'\u001b[39m,\u001b[38;5;124m'\u001b[39m\u001b[38;5;124mmean\u001b[39m\u001b[38;5;124m'\u001b[39m,\u001b[38;5;124m'\u001b[39m\u001b[38;5;124mmedian\u001b[39m\u001b[38;5;124m'\u001b[39m,\u001b[38;5;124m'\u001b[39m\u001b[38;5;124mmin\u001b[39m\u001b[38;5;124m'\u001b[39m,\u001b[38;5;124m'\u001b[39m\u001b[38;5;124mmax\u001b[39m\u001b[38;5;124m'\u001b[39m,\u001b[38;5;124m'\u001b[39m\u001b[38;5;124mstd\u001b[39m\u001b[38;5;124m'\u001b[39m,\u001b[38;5;124m'\u001b[39m\u001b[38;5;124mWAGE25\u001b[39m\u001b[38;5;124m'\u001b[39m,\u001b[38;5;124m'\u001b[39m\u001b[38;5;124mWAGE50\u001b[39m\u001b[38;5;124m'\u001b[39m,\u001b[38;5;124m'\u001b[39m\u001b[38;5;124mWAGE75\u001b[39m\u001b[38;5;124m'\u001b[39m]\n\u001b[0;32m      3\u001b[0m cols\u001b[38;5;241m=\u001b[39m[\u001b[38;5;124m'\u001b[39m\u001b[38;5;124mprevailing_wage\u001b[39m\u001b[38;5;124m'\u001b[39m]\n",
      "\u001b[1;31mNameError\u001b[0m: name 'count' is not defined"
     ]
    }
   ],
   "source": [
    "values=[count,mean,median,min_wage,max_wage,std,wage_25p,wage_50p,wage_75p]\n",
    "index=['count','mean','median','min','max','std','WAGE25','WAGE50','WAGE75']\n",
    "cols=['prevailing_wage']\n",
    "pd.DataFrame(values,index=index,columns=cols)"
   ]
  },
  {
   "cell_type": "code",
   "execution_count": 15,
   "id": "5ebfff71-3d5d-467f-aad5-1a0e77f4fba5",
   "metadata": {},
   "outputs": [
    {
     "name": "stdout",
     "output_type": "stream",
     "text": [
      "the average wage: 74455.81\n",
      "the median wage 70308.21\n"
     ]
    }
   ],
   "source": [
    "mean=round(visa_df['prevailing_wage'].mean(),2)\n",
    "median=round(visa_df['prevailing_wage'].median(),2)\n",
    "print(\"the average wage:\",mean)\n",
    "print(\"the median wage\",median)"
   ]
  },
  {
   "cell_type": "code",
   "execution_count": null,
   "id": "2e43d684-b145-4132-8153-f2600db37639",
   "metadata": {},
   "outputs": [],
   "source": [
    "count=len((visa_df['prevailing_wage']))\n",
    "min_wage=min(visa_df['prevailing_wage'])\n",
    "max_wage=max(visa_df['prevailing_wage'])\n",
    "print(\"the number of wage sample are:\",count)\n",
    "print(\"the minimum wage sample are:\",min_wage)\n",
    "print(\"the maximum wage sample are:\",max_wage)"
   ]
  },
  {
   "cell_type": "code",
   "execution_count": null,
   "id": "3f0d079a-bdb5-4f4c-ab10-a69855b13118",
   "metadata": {},
   "outputs": [],
   "source": [
    "values=[count,mean,median,min_wage,max_wage,std,wage_25p,wage_50p,wage_75p]\n",
    "index=['count','mean','median','min','max','std','WAGE25','WAGE50','WAGE75']\n",
    "cols=['prevailing_wage']\n",
    "pd.DataFrame(values,index=index,columns=cols)"
   ]
  },
  {
   "cell_type": "code",
   "execution_count": null,
   "id": "f19a78e8-a5aa-406b-b725-a0dab4772035",
   "metadata": {},
   "outputs": [],
   "source": [
    "wage_25p=round(np.percentile(visa_df['prevailing_wage'],25),2)\n",
    "wage_50p=round(np.percentile(visa_df['prevailing_wage'],50),2)\n",
    "wage_75p=round(np.percentile(visa_df['prevailing_wage'],75),2)\n",
    "print(\"the wage25p are\",wage_25p)\n",
    "print(\"the wage50p are\",wage_50p)\n",
    "print(\"the wage75p are\",wage_75p)"
   ]
  },
  {
   "cell_type": "code",
   "execution_count": 7,
   "id": "a88a9671-9328-412d-996c-03a0f990a976",
   "metadata": {},
   "outputs": [
    {
     "ename": "NameError",
     "evalue": "name 'num_columns' is not defined",
     "output_type": "error",
     "traceback": [
      "\u001b[1;31m---------------------------------------------------------------------------\u001b[0m",
      "\u001b[1;31mNameError\u001b[0m                                 Traceback (most recent call last)",
      "Cell \u001b[1;32mIn[7], line 2\u001b[0m\n\u001b[0;32m      1\u001b[0m df1\u001b[38;5;241m=\u001b[39mpd\u001b[38;5;241m.\u001b[39mDataFrame()\n\u001b[1;32m----> 2\u001b[0m \u001b[38;5;28;01mfor\u001b[39;00m i \u001b[38;5;129;01min\u001b[39;00m num_columns:\n\u001b[0;32m      3\u001b[0m    Count\u001b[38;5;241m=\u001b[39m\u001b[38;5;28mlen\u001b[39m((visa_df[i]))\n\u001b[0;32m      4\u001b[0m    Min_wage\u001b[38;5;241m=\u001b[39m\u001b[38;5;28mmin\u001b[39m(visa_df[i])\n",
      "\u001b[1;31mNameError\u001b[0m: name 'num_columns' is not defined"
     ]
    }
   ],
   "source": [
    "df1=pd.DataFrame()\n",
    "for i in num_columns:\n",
    "   Count=len((visa_df[i]))\n",
    "   Min_wage=min(visa_df[i])\n",
    "   Max_wage=max(visa_df[i])\n",
    "   Mean=round(visa_df[i].mean(),2)\n",
    "   Median=round(visa_df[i].median(),2)\n",
    "   Std=round(visa_df[i].std(),2)\n",
    "   P_25p=round(np.percentile(visa_df[i],25),2)\n",
    "   P_50p=round(np.percentile(visa_df[i],50),2)\n",
    "   P_75p=round(np.percentile(visa_df[i],75),2)\n",
    "   values=[count,mean,median,min_wage,max_wage,std,wage_25p,wage_50p,wage_75p]\n",
    "   index=['count','mean','median','min','max','std','WAGE25','WAGE50','WAGE75']\n",
    "   cols=[i]\n",
    "   df2=pd.DataFrame(values,index=index,columns=cols)\n",
    "   df1=pd.concat([df1,df2],axis=1)"
   ]
  },
  {
   "cell_type": "code",
   "execution_count": 5,
   "id": "2d2220e7-6b4d-4926-a08a-e87d2a900c67",
   "metadata": {},
   "outputs": [
    {
     "data": {
      "text/html": [
       "<div>\n",
       "<style scoped>\n",
       "    .dataframe tbody tr th:only-of-type {\n",
       "        vertical-align: middle;\n",
       "    }\n",
       "\n",
       "    .dataframe tbody tr th {\n",
       "        vertical-align: top;\n",
       "    }\n",
       "\n",
       "    .dataframe thead th {\n",
       "        text-align: right;\n",
       "    }\n",
       "</style>\n",
       "<table border=\"1\" class=\"dataframe\">\n",
       "  <thead>\n",
       "    <tr style=\"text-align: right;\">\n",
       "      <th></th>\n",
       "    </tr>\n",
       "  </thead>\n",
       "  <tbody>\n",
       "  </tbody>\n",
       "</table>\n",
       "</div>"
      ],
      "text/plain": [
       "Empty DataFrame\n",
       "Columns: []\n",
       "Index: []"
      ]
     },
     "execution_count": 5,
     "metadata": {},
     "output_type": "execute_result"
    }
   ],
   "source": [
    "df1"
   ]
  },
  {
   "cell_type": "markdown",
   "id": "c25a77bb-2889-4dbc-b53b-75650a34a2b3",
   "metadata": {},
   "source": [
    "**percentiles**\n",
    "\n",
    "- 25p:\n",
    "\n",
    "- Assume that 25p value=x\n",
    "\n",
    "- 25p of data less than value : x\n",
    "\n",
    "- For example prevailing_wage 25p value is : 34015.47\n",
    "\n",
    "- 25p of people having salary less than 34015.47\n",
    "\n",
    "- Total members: 25480\n",
    "\n",
    "- 25p of 25480=6370\n",
    "\n",
    "- which means 6370 people has salary less than 34015.47\n",
    "  "
   ]
  },
  {
   "cell_type": "code",
   "execution_count": null,
   "id": "87476860-9a3d-4037-b2b3-1f76a2cc91fe",
   "metadata": {},
   "outputs": [],
   "source": [
    "np.percentile(visa_df['prevailing_wage'],25)"
   ]
  },
  {
   "cell_type": "code",
   "execution_count": null,
   "id": "ed737405-7752-4c95-a93a-3fb0429a7a8c",
   "metadata": {},
   "outputs": [],
   "source": [
    "# step-1: Read the prevailing wage\n",
    "# step-2: provide the condition\n",
    "#            prevailing wage< percentile value\n",
    "\n",
    "wage_data=visa_df['prevailing_wage']\n",
    "p_25=np.percentile(visa_df['prevailing_wage'],25)\n",
    "con=wage_data<p_25\n",
    "visa_df[con]"
   ]
  },
  {
   "cell_type": "code",
   "execution_count": null,
   "id": "2ad84eae-d0c8-435b-b184-d083e928250b",
   "metadata": {},
   "outputs": [],
   "source": [
    "wage_data=visa_df['prevailing_wage']\n",
    "p_50=np.percentile(visa_df['prevailing_wage'],50)\n",
    "con=wage_data<p_50\n",
    "visa_df[con]"
   ]
  },
  {
   "cell_type": "code",
   "execution_count": null,
   "id": "063f60a7-b1e0-4ac4-bbe4-fd1e6a0c081e",
   "metadata": {},
   "outputs": [],
   "source": [
    "wage_data=visa_df['prevailing_wage']\n",
    "p_75=np.percentile(visa_df['prevailing_wage'],75)\n",
    "con=wage_data<p_75\n",
    "len(visa_df[con])"
   ]
  },
  {
   "cell_type": "code",
   "execution_count": null,
   "id": "b9deb79c-b51a-4483-bbfd-761a628dafde",
   "metadata": {},
   "outputs": [],
   "source": []
  },
  {
   "cell_type": "code",
   "execution_count": null,
   "id": "b5dc33a4-bb6e-4a54-ae2e-6c6101e1c9da",
   "metadata": {},
   "outputs": [],
   "source": [
    "np.percentile(visa_df['prevailing_wage'],50)"
   ]
  },
  {
   "cell_type": "markdown",
   "id": "990bef5d-393b-4194-87e3-22aa9ea9d425",
   "metadata": {},
   "source": [
    "# step1: calculte the menn of prevailing wage \n",
    "# step2: calculate the std of prevailing wage \n",
    "# step3: lb=mean-1*std\n",
    "# step4: ub=mean+1*std\n",
    "# step5: con1=data<ub\n",
    "# step6: con2=data<lb\n",
    "# step7: con3=con1andcon2\n",
    "# step8: data[con3]\n",
    "# step-9 compare with 68% 25480 count"
   ]
  },
  {
   "cell_type": "code",
   "execution_count": 22,
   "id": "865174f7-47d1-4b30-ae1e-9c90fd32a944",
   "metadata": {},
   "outputs": [
    {
     "data": {
      "text/html": [
       "<div>\n",
       "<style scoped>\n",
       "    .dataframe tbody tr th:only-of-type {\n",
       "        vertical-align: middle;\n",
       "    }\n",
       "\n",
       "    .dataframe tbody tr th {\n",
       "        vertical-align: top;\n",
       "    }\n",
       "\n",
       "    .dataframe thead th {\n",
       "        text-align: right;\n",
       "    }\n",
       "</style>\n",
       "<table border=\"1\" class=\"dataframe\">\n",
       "  <thead>\n",
       "    <tr style=\"text-align: right;\">\n",
       "      <th></th>\n",
       "      <th>case_id</th>\n",
       "      <th>continent</th>\n",
       "      <th>education_of_employee</th>\n",
       "      <th>has_job_experience</th>\n",
       "      <th>requires_job_training</th>\n",
       "      <th>no_of_employees</th>\n",
       "      <th>yr_of_estab</th>\n",
       "      <th>region_of_employment</th>\n",
       "      <th>prevailing_wage</th>\n",
       "      <th>unit_of_wage</th>\n",
       "      <th>full_time_position</th>\n",
       "      <th>case_status</th>\n",
       "    </tr>\n",
       "  </thead>\n",
       "  <tbody>\n",
       "    <tr>\n",
       "      <th>1</th>\n",
       "      <td>EZYV02</td>\n",
       "      <td>Asia</td>\n",
       "      <td>Master's</td>\n",
       "      <td>Y</td>\n",
       "      <td>N</td>\n",
       "      <td>2412</td>\n",
       "      <td>2002</td>\n",
       "      <td>Northeast</td>\n",
       "      <td>83425.65</td>\n",
       "      <td>Year</td>\n",
       "      <td>Y</td>\n",
       "      <td>Certified</td>\n",
       "    </tr>\n",
       "    <tr>\n",
       "      <th>2</th>\n",
       "      <td>EZYV03</td>\n",
       "      <td>Asia</td>\n",
       "      <td>Bachelor's</td>\n",
       "      <td>N</td>\n",
       "      <td>Y</td>\n",
       "      <td>44444</td>\n",
       "      <td>2008</td>\n",
       "      <td>West</td>\n",
       "      <td>122996.86</td>\n",
       "      <td>Year</td>\n",
       "      <td>Y</td>\n",
       "      <td>Denied</td>\n",
       "    </tr>\n",
       "    <tr>\n",
       "      <th>3</th>\n",
       "      <td>EZYV04</td>\n",
       "      <td>Asia</td>\n",
       "      <td>Bachelor's</td>\n",
       "      <td>N</td>\n",
       "      <td>N</td>\n",
       "      <td>98</td>\n",
       "      <td>1897</td>\n",
       "      <td>West</td>\n",
       "      <td>83434.03</td>\n",
       "      <td>Year</td>\n",
       "      <td>Y</td>\n",
       "      <td>Denied</td>\n",
       "    </tr>\n",
       "    <tr>\n",
       "      <th>5</th>\n",
       "      <td>EZYV06</td>\n",
       "      <td>Asia</td>\n",
       "      <td>Master's</td>\n",
       "      <td>Y</td>\n",
       "      <td>N</td>\n",
       "      <td>2339</td>\n",
       "      <td>2012</td>\n",
       "      <td>South</td>\n",
       "      <td>78252.14</td>\n",
       "      <td>Year</td>\n",
       "      <td>Y</td>\n",
       "      <td>Certified</td>\n",
       "    </tr>\n",
       "    <tr>\n",
       "      <th>6</th>\n",
       "      <td>EZYV07</td>\n",
       "      <td>Asia</td>\n",
       "      <td>Bachelor's</td>\n",
       "      <td>N</td>\n",
       "      <td>N</td>\n",
       "      <td>4985</td>\n",
       "      <td>1994</td>\n",
       "      <td>South</td>\n",
       "      <td>53635.39</td>\n",
       "      <td>Year</td>\n",
       "      <td>Y</td>\n",
       "      <td>Certified</td>\n",
       "    </tr>\n",
       "    <tr>\n",
       "      <th>...</th>\n",
       "      <td>...</td>\n",
       "      <td>...</td>\n",
       "      <td>...</td>\n",
       "      <td>...</td>\n",
       "      <td>...</td>\n",
       "      <td>...</td>\n",
       "      <td>...</td>\n",
       "      <td>...</td>\n",
       "      <td>...</td>\n",
       "      <td>...</td>\n",
       "      <td>...</td>\n",
       "      <td>...</td>\n",
       "    </tr>\n",
       "    <tr>\n",
       "      <th>25473</th>\n",
       "      <td>EZYV25474</td>\n",
       "      <td>Asia</td>\n",
       "      <td>Bachelor's</td>\n",
       "      <td>Y</td>\n",
       "      <td>N</td>\n",
       "      <td>2421</td>\n",
       "      <td>2007</td>\n",
       "      <td>Northeast</td>\n",
       "      <td>22845.56</td>\n",
       "      <td>Year</td>\n",
       "      <td>Y</td>\n",
       "      <td>Certified</td>\n",
       "    </tr>\n",
       "    <tr>\n",
       "      <th>25474</th>\n",
       "      <td>EZYV25475</td>\n",
       "      <td>Africa</td>\n",
       "      <td>Doctorate</td>\n",
       "      <td>N</td>\n",
       "      <td>N</td>\n",
       "      <td>2594</td>\n",
       "      <td>1979</td>\n",
       "      <td>Northeast</td>\n",
       "      <td>51104.78</td>\n",
       "      <td>Year</td>\n",
       "      <td>Y</td>\n",
       "      <td>Certified</td>\n",
       "    </tr>\n",
       "    <tr>\n",
       "      <th>25475</th>\n",
       "      <td>EZYV25476</td>\n",
       "      <td>Asia</td>\n",
       "      <td>Bachelor's</td>\n",
       "      <td>Y</td>\n",
       "      <td>Y</td>\n",
       "      <td>2601</td>\n",
       "      <td>2008</td>\n",
       "      <td>South</td>\n",
       "      <td>77092.57</td>\n",
       "      <td>Year</td>\n",
       "      <td>Y</td>\n",
       "      <td>Certified</td>\n",
       "    </tr>\n",
       "    <tr>\n",
       "      <th>25478</th>\n",
       "      <td>EZYV25479</td>\n",
       "      <td>Asia</td>\n",
       "      <td>Master's</td>\n",
       "      <td>Y</td>\n",
       "      <td>Y</td>\n",
       "      <td>1918</td>\n",
       "      <td>1887</td>\n",
       "      <td>West</td>\n",
       "      <td>86154.77</td>\n",
       "      <td>Year</td>\n",
       "      <td>Y</td>\n",
       "      <td>Certified</td>\n",
       "    </tr>\n",
       "    <tr>\n",
       "      <th>25479</th>\n",
       "      <td>EZYV25480</td>\n",
       "      <td>Asia</td>\n",
       "      <td>Bachelor's</td>\n",
       "      <td>Y</td>\n",
       "      <td>N</td>\n",
       "      <td>3195</td>\n",
       "      <td>1960</td>\n",
       "      <td>Midwest</td>\n",
       "      <td>70876.91</td>\n",
       "      <td>Year</td>\n",
       "      <td>Y</td>\n",
       "      <td>Certified</td>\n",
       "    </tr>\n",
       "  </tbody>\n",
       "</table>\n",
       "<p>17171 rows × 12 columns</p>\n",
       "</div>"
      ],
      "text/plain": [
       "         case_id continent education_of_employee has_job_experience  \\\n",
       "1         EZYV02      Asia              Master's                  Y   \n",
       "2         EZYV03      Asia            Bachelor's                  N   \n",
       "3         EZYV04      Asia            Bachelor's                  N   \n",
       "5         EZYV06      Asia              Master's                  Y   \n",
       "6         EZYV07      Asia            Bachelor's                  N   \n",
       "...          ...       ...                   ...                ...   \n",
       "25473  EZYV25474      Asia            Bachelor's                  Y   \n",
       "25474  EZYV25475    Africa             Doctorate                  N   \n",
       "25475  EZYV25476      Asia            Bachelor's                  Y   \n",
       "25478  EZYV25479      Asia              Master's                  Y   \n",
       "25479  EZYV25480      Asia            Bachelor's                  Y   \n",
       "\n",
       "      requires_job_training  no_of_employees  yr_of_estab  \\\n",
       "1                         N             2412         2002   \n",
       "2                         Y            44444         2008   \n",
       "3                         N               98         1897   \n",
       "5                         N             2339         2012   \n",
       "6                         N             4985         1994   \n",
       "...                     ...              ...          ...   \n",
       "25473                     N             2421         2007   \n",
       "25474                     N             2594         1979   \n",
       "25475                     Y             2601         2008   \n",
       "25478                     Y             1918         1887   \n",
       "25479                     N             3195         1960   \n",
       "\n",
       "      region_of_employment  prevailing_wage unit_of_wage full_time_position  \\\n",
       "1                Northeast         83425.65         Year                  Y   \n",
       "2                     West        122996.86         Year                  Y   \n",
       "3                     West         83434.03         Year                  Y   \n",
       "5                    South         78252.14         Year                  Y   \n",
       "6                    South         53635.39         Year                  Y   \n",
       "...                    ...              ...          ...                ...   \n",
       "25473            Northeast         22845.56         Year                  Y   \n",
       "25474            Northeast         51104.78         Year                  Y   \n",
       "25475                South         77092.57         Year                  Y   \n",
       "25478                 West         86154.77         Year                  Y   \n",
       "25479              Midwest         70876.91         Year                  Y   \n",
       "\n",
       "      case_status  \n",
       "1       Certified  \n",
       "2          Denied  \n",
       "3          Denied  \n",
       "5       Certified  \n",
       "6       Certified  \n",
       "...           ...  \n",
       "25473   Certified  \n",
       "25474   Certified  \n",
       "25475   Certified  \n",
       "25478   Certified  \n",
       "25479   Certified  \n",
       "\n",
       "[17171 rows x 12 columns]"
      ]
     },
     "execution_count": 22,
     "metadata": {},
     "output_type": "execute_result"
    }
   ],
   "source": [
    "mu=visa_df['prevailing_wage'].mean()\n",
    "std=visa_df['prevailing_wage'].std()\n",
    "lb=mu-std\n",
    "ub=mu+std\n",
    "con1=visa_df['prevailing_wage']<ub\n",
    "con2=visa_df['prevailing_wage']>lb\n",
    "con3=con1&con2\n",
    "visa_df[con3]"
   ]
  },
  {
   "cell_type": "code",
   "execution_count": null,
   "id": "64912d9e-939a-461f-a3da-997ce29166d3",
   "metadata": {},
   "outputs": [],
   "source": []
  },
  {
   "cell_type": "markdown",
   "id": "ad91340e-afa1-44e4-bfeb-b0c9b26345c1",
   "metadata": {},
   "source": [
    "**Histogram**"
   ]
  },
  {
   "cell_type": "markdown",
   "id": "b62fc699-d392-4749-b892-ba6c239e5ab0",
   "metadata": {},
   "source": [
    "- by applying imperical rule we observed slight deviation in the count of data\n",
    "- also mean is slighty devaited from median\n",
    "- This gives an indication the data does not follows normal distribution\n",
    "- To understand more clearly will visulaize the data\n",
    "- its is numercial data,so the plot name is Histogram\n",
    "- Histogram is a graph between class invertals and class invertal frequency\n",
    "- The plot is available in matplotlib\n",
    "- The method name is hist"
   ]
  },
  {
   "cell_type": "code",
   "execution_count": 21,
   "id": "35379d31-1f06-460e-94fe-7da27131950d",
   "metadata": {},
   "outputs": [
    {
     "data": {
      "text/plain": [
       "(array([3863., 2175., 2676., 2828., 2889., 2792., 2485., 2066., 1452.,\n",
       "         882.,  408.,  216.,  206.,  167.,  129.,  111.,   66.,   48.,\n",
       "          10.,   11.]),\n",
       " array([2.13670000e+00, 1.59625434e+04, 3.19229500e+04, 4.78833567e+04,\n",
       "        6.38437634e+04, 7.98041700e+04, 9.57645767e+04, 1.11724983e+05,\n",
       "        1.27685390e+05, 1.43645797e+05, 1.59606203e+05, 1.75566610e+05,\n",
       "        1.91527017e+05, 2.07487423e+05, 2.23447830e+05, 2.39408237e+05,\n",
       "        2.55368643e+05, 2.71329050e+05, 2.87289457e+05, 3.03249863e+05,\n",
       "        3.19210270e+05]),\n",
       " <BarContainer object of 20 artists>)"
      ]
     },
     "execution_count": 21,
     "metadata": {},
     "output_type": "execute_result"
    },
    {
     "data": {
      "image/png": "[encoded data removed]",
      "text/plain": [
       "<Figure size 640x480 with 1 Axes>"
      ]
     },
     "metadata": {},
     "output_type": "display_data"
    }
   ],
   "source": [
    "# step-1: read the prevailing wage\n",
    "# step-2:plt.hist()\n",
    "wage_data=visa_df['prevailing_wage']\n",
    "plt.hist(wage_data,bins=20)"
   ]
  },
  {
   "cell_type": "markdown",
   "id": "b8c6eb13-543d-472e-93c4-27dcc03b20a0",
   "metadata": {},
   "source": [
    "- histogrm will returns 3 values \n",
    "  - interval count array\n",
    "    - we have 20 interval so we have 20 interval counts\n",
    "  - bins \n",
    "      - bins means number of invertals\n",
    "      - we have 20 interval so we need 21 values\n",
    "      - will display how many invertals are available"
   ]
  },
  {
   "cell_type": "code",
   "execution_count": 23,
   "id": "29f1a292-e7e4-444c-8734-dbde1e75c4db",
   "metadata": {},
   "outputs": [
    {
     "name": "stdout",
     "output_type": "stream",
     "text": [
      "20\n",
      "21\n",
      "<BarContainer object of 20 artists>\n"
     ]
    },
    {
     "data": {
      "image/png": "[encoded data removed]",
      "text/plain": [
       "<Figure size 640x480 with 1 Axes>"
      ]
     },
     "metadata": {},
     "output_type": "display_data"
    }
   ],
   "source": [
    "wage_data=visa_df['prevailing_wage']\n",
    "count,bins,x=plt.hist(wage_data,bins=20)\n",
    "print(len(count))\n",
    "print(len(bins))\n",
    "print(x)"
   ]
  },
  {
   "cell_type": "code",
   "execution_count": 24,
   "id": "c5b98f84-57b9-48a3-827e-4a7d8ff7991d",
   "metadata": {},
   "outputs": [
    {
     "data": {
      "text/plain": [
       "array([2.13670000e+00, 1.59625434e+04, 3.19229500e+04, 4.78833567e+04,\n",
       "       6.38437634e+04, 7.98041700e+04, 9.57645767e+04, 1.11724983e+05,\n",
       "       1.27685390e+05, 1.43645797e+05, 1.59606203e+05, 1.75566610e+05,\n",
       "       1.91527017e+05, 2.07487423e+05, 2.23447830e+05, 2.39408237e+05,\n",
       "       2.55368643e+05, 2.71329050e+05, 2.87289457e+05, 3.03249863e+05,\n",
       "       3.19210270e+05])"
      ]
     },
     "execution_count": 24,
     "metadata": {},
     "output_type": "execute_result"
    }
   ],
   "source": [
    "bins"
   ]
  },
  {
   "cell_type": "code",
   "execution_count": 25,
   "id": "9920f266-5099-4438-8bd2-1ce726b8abb5",
   "metadata": {},
   "outputs": [
    {
     "data": {
      "text/plain": [
       "array([3863., 2175., 2676., 2828., 2889., 2792., 2485., 2066., 1452.,\n",
       "        882.,  408.,  216.,  206.,  167.,  129.,  111.,   66.,   48.,\n",
       "         10.,   11.])"
      ]
     },
     "execution_count": 25,
     "metadata": {},
     "output_type": "execute_result"
    }
   ],
   "source": [
    "count"
   ]
  },
  {
   "cell_type": "code",
   "execution_count": 12,
   "id": "7c058653-37f3-4fcb-b865-ca3670678fb5",
   "metadata": {},
   "outputs": [
    {
     "data": {
      "image/png": "[encoded data removed]",
      "text/plain": [
       "<Figure size 640x480 with 1 Axes>"
      ]
     },
     "metadata": {},
     "output_type": "display_data"
    }
   ],
   "source": [
    "x=[1,2,3,4,5]\n",
    "y=[1,2,3,4,5]\n",
    "plt.scatter(x,y)\n",
    "plt.plot(x,y)\n",
    "plt.show()"
   ]
  },
  {
   "cell_type": "code",
   "execution_count": 20,
   "id": "4a40c303-67e0-4ae8-a562-1feeaf9749df",
   "metadata": {},
   "outputs": [
    {
     "data": {
      "text/html": [
       "<div>\n",
       "<style scoped>\n",
       "    .dataframe tbody tr th:only-of-type {\n",
       "        vertical-align: middle;\n",
       "    }\n",
       "\n",
       "    .dataframe tbody tr th {\n",
       "        vertical-align: top;\n",
       "    }\n",
       "\n",
       "    .dataframe thead th {\n",
       "        text-align: right;\n",
       "    }\n",
       "</style>\n",
       "<table border=\"1\" class=\"dataframe\">\n",
       "  <thead>\n",
       "    <tr style=\"text-align: right;\">\n",
       "      <th></th>\n",
       "      <th>case_id</th>\n",
       "      <th>continent</th>\n",
       "      <th>education_of_employee</th>\n",
       "      <th>has_job_experience</th>\n",
       "      <th>requires_job_training</th>\n",
       "      <th>no_of_employees</th>\n",
       "      <th>yr_of_estab</th>\n",
       "      <th>region_of_employment</th>\n",
       "      <th>prevailing_wage</th>\n",
       "      <th>unit_of_wage</th>\n",
       "      <th>full_time_position</th>\n",
       "      <th>case_status</th>\n",
       "    </tr>\n",
       "  </thead>\n",
       "  <tbody>\n",
       "    <tr>\n",
       "      <th>0</th>\n",
       "      <td>EZYV01</td>\n",
       "      <td>Asia</td>\n",
       "      <td>High School</td>\n",
       "      <td>N</td>\n",
       "      <td>N</td>\n",
       "      <td>14513</td>\n",
       "      <td>2007</td>\n",
       "      <td>West</td>\n",
       "      <td>592.2029</td>\n",
       "      <td>Hour</td>\n",
       "      <td>Y</td>\n",
       "      <td>Denied</td>\n",
       "    </tr>\n",
       "    <tr>\n",
       "      <th>1</th>\n",
       "      <td>EZYV02</td>\n",
       "      <td>Asia</td>\n",
       "      <td>Master's</td>\n",
       "      <td>Y</td>\n",
       "      <td>N</td>\n",
       "      <td>2412</td>\n",
       "      <td>2002</td>\n",
       "      <td>Northeast</td>\n",
       "      <td>83425.6500</td>\n",
       "      <td>Year</td>\n",
       "      <td>Y</td>\n",
       "      <td>Certified</td>\n",
       "    </tr>\n",
       "    <tr>\n",
       "      <th>2</th>\n",
       "      <td>EZYV03</td>\n",
       "      <td>Asia</td>\n",
       "      <td>Bachelor's</td>\n",
       "      <td>N</td>\n",
       "      <td>Y</td>\n",
       "      <td>44444</td>\n",
       "      <td>2008</td>\n",
       "      <td>West</td>\n",
       "      <td>122996.8600</td>\n",
       "      <td>Year</td>\n",
       "      <td>Y</td>\n",
       "      <td>Denied</td>\n",
       "    </tr>\n",
       "    <tr>\n",
       "      <th>3</th>\n",
       "      <td>EZYV04</td>\n",
       "      <td>Asia</td>\n",
       "      <td>Bachelor's</td>\n",
       "      <td>N</td>\n",
       "      <td>N</td>\n",
       "      <td>98</td>\n",
       "      <td>1897</td>\n",
       "      <td>West</td>\n",
       "      <td>83434.0300</td>\n",
       "      <td>Year</td>\n",
       "      <td>Y</td>\n",
       "      <td>Denied</td>\n",
       "    </tr>\n",
       "    <tr>\n",
       "      <th>4</th>\n",
       "      <td>EZYV05</td>\n",
       "      <td>Africa</td>\n",
       "      <td>Master's</td>\n",
       "      <td>Y</td>\n",
       "      <td>N</td>\n",
       "      <td>1082</td>\n",
       "      <td>2005</td>\n",
       "      <td>South</td>\n",
       "      <td>149907.3900</td>\n",
       "      <td>Year</td>\n",
       "      <td>Y</td>\n",
       "      <td>Certified</td>\n",
       "    </tr>\n",
       "    <tr>\n",
       "      <th>...</th>\n",
       "      <td>...</td>\n",
       "      <td>...</td>\n",
       "      <td>...</td>\n",
       "      <td>...</td>\n",
       "      <td>...</td>\n",
       "      <td>...</td>\n",
       "      <td>...</td>\n",
       "      <td>...</td>\n",
       "      <td>...</td>\n",
       "      <td>...</td>\n",
       "      <td>...</td>\n",
       "      <td>...</td>\n",
       "    </tr>\n",
       "    <tr>\n",
       "      <th>25475</th>\n",
       "      <td>EZYV25476</td>\n",
       "      <td>Asia</td>\n",
       "      <td>Bachelor's</td>\n",
       "      <td>Y</td>\n",
       "      <td>Y</td>\n",
       "      <td>2601</td>\n",
       "      <td>2008</td>\n",
       "      <td>South</td>\n",
       "      <td>77092.5700</td>\n",
       "      <td>Year</td>\n",
       "      <td>Y</td>\n",
       "      <td>Certified</td>\n",
       "    </tr>\n",
       "    <tr>\n",
       "      <th>25476</th>\n",
       "      <td>EZYV25477</td>\n",
       "      <td>Asia</td>\n",
       "      <td>High School</td>\n",
       "      <td>Y</td>\n",
       "      <td>N</td>\n",
       "      <td>3274</td>\n",
       "      <td>2006</td>\n",
       "      <td>Northeast</td>\n",
       "      <td>279174.7900</td>\n",
       "      <td>Year</td>\n",
       "      <td>Y</td>\n",
       "      <td>Certified</td>\n",
       "    </tr>\n",
       "    <tr>\n",
       "      <th>25477</th>\n",
       "      <td>EZYV25478</td>\n",
       "      <td>Asia</td>\n",
       "      <td>Master's</td>\n",
       "      <td>Y</td>\n",
       "      <td>N</td>\n",
       "      <td>1121</td>\n",
       "      <td>1910</td>\n",
       "      <td>South</td>\n",
       "      <td>146298.8500</td>\n",
       "      <td>Year</td>\n",
       "      <td>N</td>\n",
       "      <td>Certified</td>\n",
       "    </tr>\n",
       "    <tr>\n",
       "      <th>25478</th>\n",
       "      <td>EZYV25479</td>\n",
       "      <td>Asia</td>\n",
       "      <td>Master's</td>\n",
       "      <td>Y</td>\n",
       "      <td>Y</td>\n",
       "      <td>1918</td>\n",
       "      <td>1887</td>\n",
       "      <td>West</td>\n",
       "      <td>86154.7700</td>\n",
       "      <td>Year</td>\n",
       "      <td>Y</td>\n",
       "      <td>Certified</td>\n",
       "    </tr>\n",
       "    <tr>\n",
       "      <th>25479</th>\n",
       "      <td>EZYV25480</td>\n",
       "      <td>Asia</td>\n",
       "      <td>Bachelor's</td>\n",
       "      <td>Y</td>\n",
       "      <td>N</td>\n",
       "      <td>3195</td>\n",
       "      <td>1960</td>\n",
       "      <td>Midwest</td>\n",
       "      <td>70876.9100</td>\n",
       "      <td>Year</td>\n",
       "      <td>Y</td>\n",
       "      <td>Certified</td>\n",
       "    </tr>\n",
       "  </tbody>\n",
       "</table>\n",
       "<p>25480 rows × 12 columns</p>\n",
       "</div>"
      ],
      "text/plain": [
       "         case_id continent education_of_employee has_job_experience  \\\n",
       "0         EZYV01      Asia           High School                  N   \n",
       "1         EZYV02      Asia              Master's                  Y   \n",
       "2         EZYV03      Asia            Bachelor's                  N   \n",
       "3         EZYV04      Asia            Bachelor's                  N   \n",
       "4         EZYV05    Africa              Master's                  Y   \n",
       "...          ...       ...                   ...                ...   \n",
       "25475  EZYV25476      Asia            Bachelor's                  Y   \n",
       "25476  EZYV25477      Asia           High School                  Y   \n",
       "25477  EZYV25478      Asia              Master's                  Y   \n",
       "25478  EZYV25479      Asia              Master's                  Y   \n",
       "25479  EZYV25480      Asia            Bachelor's                  Y   \n",
       "\n",
       "      requires_job_training  no_of_employees  yr_of_estab  \\\n",
       "0                         N            14513         2007   \n",
       "1                         N             2412         2002   \n",
       "2                         Y            44444         2008   \n",
       "3                         N               98         1897   \n",
       "4                         N             1082         2005   \n",
       "...                     ...              ...          ...   \n",
       "25475                     Y             2601         2008   \n",
       "25476                     N             3274         2006   \n",
       "25477                     N             1121         1910   \n",
       "25478                     Y             1918         1887   \n",
       "25479                     N             3195         1960   \n",
       "\n",
       "      region_of_employment  prevailing_wage unit_of_wage full_time_position  \\\n",
       "0                     West         592.2029         Hour                  Y   \n",
       "1                Northeast       83425.6500         Year                  Y   \n",
       "2                     West      122996.8600         Year                  Y   \n",
       "3                     West       83434.0300         Year                  Y   \n",
       "4                    South      149907.3900         Year                  Y   \n",
       "...                    ...              ...          ...                ...   \n",
       "25475                South       77092.5700         Year                  Y   \n",
       "25476            Northeast      279174.7900         Year                  Y   \n",
       "25477                South      146298.8500         Year                  N   \n",
       "25478                 West       86154.7700         Year                  Y   \n",
       "25479              Midwest       70876.9100         Year                  Y   \n",
       "\n",
       "      case_status  \n",
       "0          Denied  \n",
       "1       Certified  \n",
       "2          Denied  \n",
       "3          Denied  \n",
       "4       Certified  \n",
       "...           ...  \n",
       "25475   Certified  \n",
       "25476   Certified  \n",
       "25477   Certified  \n",
       "25478   Certified  \n",
       "25479   Certified  \n",
       "\n",
       "[25480 rows x 12 columns]"
      ]
     },
     "execution_count": 20,
     "metadata": {},
     "output_type": "execute_result"
    }
   ],
   "source": [
    "visa_df=pd.read_csv('Visadataset.csv')\n",
    "visa_df"
   ]
  },
  {
   "cell_type": "code",
   "execution_count": null,
   "id": "9ddb28f0-531b-43d8-93eb-936b2f0fc634",
   "metadata": {},
   "outputs": [],
   "source": [
    "# i want to apply the map mathad for will cat"
   ]
  },
  {
   "cell_type": "code",
   "execution_count": 5,
   "id": "c2165677-5f6c-48d3-9692-0c5de6bcba3c",
   "metadata": {},
   "outputs": [
    {
     "data": {
      "text/plain": [
       "'C:\\\\Users\\\\ASUS'"
      ]
     },
     "execution_count": 5,
     "metadata": {},
     "output_type": "execute_result"
    }
   ],
   "source": [
    "import os \n",
    "os.getcwd()"
   ]
  },
  {
   "cell_type": "markdown",
   "id": "c476ec1b-4672-4077-a174-d8421becae58",
   "metadata": {},
   "source": [
    "*LabelEncoder*\n",
    "\n",
    "- LabelEncoder is a method to convert categorical data to numerical\n",
    "- LAbelEncoder is a sameway ,how we did in the above\n",
    "- The for loop map we explored\n",
    "- But the LabelEncoder also do the same\n",
    "- It is under *sickit-learn* we usually called as *sklearn*\n",
    "- under sklearn we have\n",
    "- Because currently we are doing data preprocessing\n",
    "- th\n",
    "- sklearn\n",
    "   - preprocessing\n",
    "      - LabelEncoder\n",
    "    \n",
    "- step-1: Read the package\n",
    "- step-2: save the package\n",
    "- step-3: apply fit tranform on data"
   ]
  },
  {
   "cell_type": "markdown",
   "id": "e90eda85-312c-4210-beb7-0ce05a9e13ce",
   "metadata": {},
   "source": [
    "- using np.where also we can change  the Categorical data to numercial\n",
    "\n",
    "- But np.where is only for binary condition\n",
    "\n",
    "- np.where is same as if-else\n",
    "\n",
    "- if condition is True: we apply True value\n",
    "\n",
    "- if condition is false:we apply false value\n",
    "\n",
    "- so np.where use for only binary labels\n",
    "\n",
    "- A column should have only two unique labels\n",
    "-"
   ]
  },
  {
   "cell_type": "code",
   "execution_count": 3,
   "id": "17844d3a-27aa-453a-bc56-fd2ffff357ee",
   "metadata": {},
   "outputs": [
    {
     "data": {
      "text/plain": [
       "'C:\\\\Users\\\\ASUS'"
      ]
     },
     "execution_count": 3,
     "metadata": {},
     "output_type": "execute_result"
    }
   ],
   "source": [
    "import os\n",
    "os.getcwd()"
   ]
  },
  {
   "cell_type": "code",
   "execution_count": null,
   "id": "4b68c296-4cd7-4254-ae4b-e1a4c76fe9d2",
   "metadata": {},
   "outputs": [],
   "source": []
  }
 ],
 "metadata": {
  "kernelspec": {
   "display_name": "Python 3 (ipykernel)",
   "language": "python",
   "name": "python3"
  },
  "language_info": {
   "codemirror_mode": {
    "name": "ipython",
    "version": 3
   },
   "file_extension": ".py",
   "mimetype": "text/x-python",
   "name": "python",
   "nbconvert_exporter": "python",
   "pygments_lexer": "ipython3",
   "version": "3.12.4"
  }
 },
 "nbformat": 4,
 "nbformat_minor": 5
}
